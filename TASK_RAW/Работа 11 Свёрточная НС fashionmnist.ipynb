{
  "nbformat": 4,
  "nbformat_minor": 0,
  "metadata": {
    "colab": {
      "name": "homework_fashionmnist.ipynb",
      "version": "0.3.2",
      "provenance": [],
      "collapsed_sections": []
    },
    "kernelspec": {
      "display_name": "Python 3",
      "language": "python",
      "name": "python3"
    }
  },
  "cells": [
    {
      "metadata": {
        "colab_type": "text",
        "id": "y4TIC_99WsxT"
      },
      "cell_type": "markdown",
      "source": [
        "---"
      ]
    },
    {
      "metadata": {
        "colab_type": "text",
        "id": "ezjWeWD7WsxU"
      },
      "cell_type": "markdown",
      "source": [
        "<h2 style=\"text-align: center;\"><b>FashionMNIST</b></h2>"
      ]
    },
    {
      "metadata": {
        "colab_type": "text",
        "id": "1bsX5wbIWsxV"
      },
      "cell_type": "markdown",
      "source": [
        "---"
      ]
    },
    {
      "metadata": {
        "colab_type": "text",
        "id": "k-V-v1F-WsxW"
      },
      "cell_type": "markdown",
      "source": [
        "В этом ноутбуке Вам предстоит самостоятельно попрактиковаться в написаноо нейросетей для распознавания датасета, похожего на MNIST, но более интересного -- чёрно-белых изображений одежды."
      ]
    },
    {
      "metadata": {
        "colab_type": "text",
        "id": "AkmeeD-iWsxX"
      },
      "cell_type": "markdown",
      "source": [
        "<h2 style=\"text-align: center;\"><b>FashionMNIST</b></h2>"
      ]
    },
    {
      "metadata": {
        "colab_type": "text",
        "id": "AygNFOvoWsxY"
      },
      "cell_type": "markdown",
      "source": [
        "<img src=\"https://emiliendupont.github.io/imgs/mnist-chicken/mnist-and-fashion-examples.png\">"
      ]
    },
    {
      "metadata": {
        "colab_type": "text",
        "id": "s-u9DDJYWsxg"
      },
      "cell_type": "markdown",
      "source": [
        "<h2 style=\"text-align: center;\"><b>Данные</b></h2>"
      ]
    },
    {
      "metadata": {
        "colab_type": "text",
        "id": "YNF5C2b_Wsxh"
      },
      "cell_type": "markdown",
      "source": [
        "Мы будем работать с картинками одежды (чёрно-белыми, то есть цветовых каналов не 3, а 1). По входной картинке нужно предсказать тип одежды."
      ]
    },
    {
      "metadata": {
        "id": "2IYPMzDudZeN",
        "colab_type": "code",
        "colab": {}
      },
      "cell_type": "code",
      "source": [
        "# !pip install torchvision\n",
        "\n",
        "import numpy as np\n",
        "import matplotlib.pyplot as plt\n",
        "\n",
        "import torch\n",
        "import torchvision"
      ],
      "execution_count": 0,
      "outputs": []
    },
    {
      "metadata": {
        "id": "FCedv50ReIUZ",
        "colab_type": "code",
        "colab": {}
      },
      "cell_type": "code",
      "source": [
        "trainset = torchvision.datasets.FashionMNIST(root='./data', train=True,\n",
        "                                        download=True, transform=None)\n",
        "trainloader = torch.utils.data.DataLoader(trainset, batch_size=4,\n",
        "                                          shuffle=True, num_workers=2)\n",
        "\n",
        "testset = torchvision.datasets.FashionMNIST(root='./data', train=False,\n",
        "                                       download=True, transform=None)\n",
        "testloader = torch.utils.data.DataLoader(testset, batch_size=4,\n",
        "                                         shuffle=False, num_workers=2)\n",
        "\n",
        "#classes = (<перечислите классы как строки>)"
      ],
      "execution_count": 0,
      "outputs": []
    },
    {
      "metadata": {
        "colab_type": "text",
        "id": "CZTfJ0dBWszP"
      },
      "cell_type": "markdown",
      "source": [
        "Каждая картинка имеет класс от 0 до 9, расшифровка меток класса:  \n",
        "\n",
        "|class_id|class_name|\n",
        "|----|----|\n",
        "|0| T-shirt/top|\n",
        "|1| Trouser|\n",
        "|2| Pullover|\n",
        "|3| Dress|\n",
        "|4| Coat|\n",
        "|5| Sandal|\n",
        "|6| Shirt|\n",
        "|7| Sneaker|\n",
        "|8| Bag|\n",
        "|9| Ankle boot| "
      ]
    },
    {
      "metadata": {
        "id": "tDLDH6ccfJOB",
        "colab_type": "text"
      },
      "cell_type": "markdown",
      "source": [
        "Посмотрите на датасет.\n",
        "* Сколько в нём классов?\n",
        "* Сколько картинок в train? В test?\n",
        "* Равномерно ли распределено количество классов в train датасете (это можно понять, поработав с полем `train_data` у переменной `trainset`)? в test?\n",
        "* Выведите несколько картинок с помощью `pyplot`"
      ]
    },
    {
      "metadata": {
        "id": "xvzxIuFjf--k",
        "colab_type": "code",
        "colab": {}
      },
      "cell_type": "code",
      "source": [
        "<Ваш код здесь (может занимать много ячеек)>"
      ],
      "execution_count": 0,
      "outputs": []
    },
    {
      "metadata": {
        "colab_type": "text",
        "id": "RkDjjoj2Ws04"
      },
      "cell_type": "markdown",
      "source": [
        "<h2 style=\"text-align: center;\"><b>Задание</b></h2>"
      ]
    },
    {
      "metadata": {
        "colab_type": "text",
        "id": "b_DjMGZPWszt"
      },
      "cell_type": "markdown",
      "source": [
        "Используя материалы семинаров по многослойным  и свёрточным сетям, напишите:\n",
        "1. MLP, классифицирующий этот датасет\n",
        "2. Свёрточную сеть, классифицирующую этот датасет\n",
        "3. Сравните их качество (по графикам лосса и по Accuracy Score)\n",
        "\n",
        "Если качество, которое получается у  нейросети, выше 95%, то Вы решили задачу с точностью, которую можно использовать в жизни."
      ]
    },
    {
      "metadata": {
        "colab_type": "code",
        "id": "Ev5LShUSWs06",
        "colab": {}
      },
      "cell_type": "code",
      "source": [
        "<Ваш код здесь (может занимать много ячеек)> "
      ],
      "execution_count": 0,
      "outputs": []
    },
    {
      "metadata": {
        "colab_type": "code",
        "id": "P8W0HbJjWs0-",
        "colab": {}
      },
      "cell_type": "code",
      "source": [
        "..."
      ],
      "execution_count": 0,
      "outputs": []
    },
    {
      "metadata": {
        "colab_type": "code",
        "id": "zWNQz-SbWs1A",
        "colab": {}
      },
      "cell_type": "code",
      "source": [
        "..."
      ],
      "execution_count": 0,
      "outputs": []
    }
  ]
}